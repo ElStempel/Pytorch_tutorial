{
 "cells": [
  {
   "cell_type": "markdown",
   "id": "floppy-weekly",
   "metadata": {},
   "source": [
    "# Pytorch dla Debili - bazowane na Blitz Tutorial"
   ]
  },
  {
   "cell_type": "markdown",
   "id": "digital-headquarters",
   "metadata": {},
   "source": [
    "https://pytorch.org/tutorials/beginner/deep_learning_60min_blitz.html"
   ]
  },
  {
   "cell_type": "markdown",
   "id": "disturbed-passing",
   "metadata": {},
   "source": [
    "## Setup"
   ]
  },
  {
   "cell_type": "code",
   "execution_count": 1,
   "id": "involved-testament",
   "metadata": {},
   "outputs": [
    {
     "data": {
      "application/javascript": [
       "IPython.notebook.set_autosave_interval(60000)"
      ]
     },
     "metadata": {},
     "output_type": "display_data"
    },
    {
     "name": "stdout",
     "output_type": "stream",
     "text": [
      "Autosaving every 60 seconds\n"
     ]
    }
   ],
   "source": [
    "#tu se wymusiłem szybszy autosave na wszelki\n",
    "%autosave 60"
   ]
  },
  {
   "cell_type": "code",
   "execution_count": 16,
   "id": "voluntary-factor",
   "metadata": {},
   "outputs": [
    {
     "name": "stdout",
     "output_type": "stream",
     "text": [
      "Requirement already satisfied: pip in /usr/local/Cellar/jupyterlab/3.0.6/libexec/lib/python3.9/site-packages (21.0.1)\n",
      "Requirement already satisfied: numpy in /usr/local/Cellar/jupyterlab/3.0.6/libexec/lib/python3.9/site-packages (1.20.0)\n",
      "Collecting matplotlib\n",
      "  Downloading matplotlib-3.3.4-cp39-cp39-macosx_10_9_x86_64.whl (8.5 MB)\n",
      "\u001b[K     |████████████████████████████████| 8.5 MB 2.4 MB/s eta 0:00:01\n",
      "\u001b[?25hCollecting kiwisolver>=1.0.1\n",
      "  Using cached kiwisolver-1.3.1-cp39-cp39-macosx_10_9_x86_64.whl (61 kB)\n",
      "Requirement already satisfied: pillow>=6.2.0 in /usr/local/Cellar/jupyterlab/3.0.6/libexec/lib/python3.9/site-packages (from matplotlib) (8.1.0)\n",
      "Collecting cycler>=0.10\n",
      "  Using cached cycler-0.10.0-py2.py3-none-any.whl (6.5 kB)\n",
      "Requirement already satisfied: numpy>=1.15 in /usr/local/Cellar/jupyterlab/3.0.6/libexec/lib/python3.9/site-packages (from matplotlib) (1.20.0)\n",
      "Requirement already satisfied: pyparsing!=2.0.4,!=2.1.2,!=2.1.6,>=2.0.3 in /usr/local/Cellar/jupyterlab/3.0.6/libexec/lib/python3.9/site-packages (from matplotlib) (2.4.7)\n",
      "Requirement already satisfied: python-dateutil>=2.1 in /usr/local/Cellar/jupyterlab/3.0.6/libexec/lib/python3.9/site-packages (from matplotlib) (2.8.1)\n",
      "Requirement already satisfied: six in /usr/local/Cellar/jupyterlab/3.0.6/libexec/lib/python3.9/site-packages (from cycler>=0.10->matplotlib) (1.15.0)\n",
      "Installing collected packages: kiwisolver, cycler, matplotlib\n",
      "Successfully installed cycler-0.10.0 kiwisolver-1.3.1 matplotlib-3.3.4\n",
      "Requirement already satisfied: torch in /usr/local/Cellar/jupyterlab/3.0.6/libexec/lib/python3.9/site-packages (1.7.1)\n",
      "Requirement already satisfied: torchvision in /usr/local/Cellar/jupyterlab/3.0.6/libexec/lib/python3.9/site-packages (0.8.2)\n",
      "Requirement already satisfied: torchaudio in /usr/local/Cellar/jupyterlab/3.0.6/libexec/lib/python3.9/site-packages (0.7.2)\n",
      "Requirement already satisfied: typing-extensions in /usr/local/Cellar/jupyterlab/3.0.6/libexec/lib/python3.9/site-packages (from torch) (3.7.4.3)\n",
      "Requirement already satisfied: numpy in /usr/local/Cellar/jupyterlab/3.0.6/libexec/lib/python3.9/site-packages (from torch) (1.20.0)\n",
      "Requirement already satisfied: pillow>=4.1.1 in /usr/local/Cellar/jupyterlab/3.0.6/libexec/lib/python3.9/site-packages (from torchvision) (8.1.0)\n"
     ]
    }
   ],
   "source": [
    "#wymagane pakiety\n",
    "import sys\n",
    "!{sys.executable} -m pip install --upgrade pip\n",
    "!{sys.executable} -m pip install numpy\n",
    "!{sys.executable} -m pip install matplotlib\n",
    "!{sys.executable} -m pip install torch torchvision torchaudio"
   ]
  },
  {
   "cell_type": "code",
   "execution_count": 3,
   "id": "interracial-kingston",
   "metadata": {},
   "outputs": [
    {
     "name": "stderr",
     "output_type": "stream",
     "text": [
      "/usr/local/Cellar/jupyterlab/3.0.6/libexec/lib/python3.9/site-packages/torchaudio/backend/utils.py:53: UserWarning: \"sox\" backend is being deprecated. The default backend will be changed to \"sox_io\" backend in 0.8.0 and \"sox\" backend will be removed in 0.9.0. Please migrate to \"sox_io\" backend. Please refer to https://github.com/pytorch/audio/issues/903 for the detail.\n",
      "  warnings.warn(\n"
     ]
    }
   ],
   "source": [
    "#wszystko co potrzebne\n",
    "import torch\n",
    "import numpy as np\n",
    "\n",
    "#pakiety gotowych modeli i danych\n",
    "import torchvision\n",
    "import torchaudio"
   ]
  },
  {
   "cell_type": "markdown",
   "id": "equipped-principal",
   "metadata": {},
   "source": [
    "## Tensor - struktura danych"
   ]
  },
  {
   "cell_type": "markdown",
   "id": "closing-namibia",
   "metadata": {},
   "source": [
    "Tensor to najbardziej bazowa struktura danych w ML. Jest niczym innym jak wielowymiarową tablicą (array) o określonym rozmiarze i zawartości.\n",
    "\n",
    "Jeśli <u>model to sieć neuronowa</u> ---> <u>tensor to neuron</u>."
   ]
  },
  {
   "cell_type": "code",
   "execution_count": 37,
   "id": "several-toolbox",
   "metadata": {},
   "outputs": [
    {
     "name": "stdout",
     "output_type": "stream",
     "text": [
      "Ones Tensor: \n",
      " tensor([[1, 1],\n",
      "        [1, 1]]) \n",
      "\n",
      "Random Tensor: \n",
      " tensor([[0.7799, 0.7241],\n",
      "        [0.4697, 0.8077]]) \n",
      "\n",
      "Random Tensor: \n",
      " tensor([[0.6716, 0.9250, 0.8937],\n",
      "        [0.1277, 0.6322, 0.6772]]) \n",
      "\n",
      "Ones Tensor: \n",
      " tensor([[1., 1., 1.],\n",
      "        [1., 1., 1.]]) \n",
      "\n",
      "Zeros Tensor: \n",
      " tensor([[0., 0., 0.],\n",
      "        [0., 0., 0.]]) \n",
      "\n"
     ]
    }
   ],
   "source": [
    "#tensor to bardziej fikuśna wielowymiarowa tablica\n",
    "#bazowy element sieci neuronowej\n",
    "\n",
    "\n",
    "#tworzenie\n",
    "\n",
    "#tensor z tablicy\n",
    "data = [[1, 2],[3,4]]\n",
    "x_data = torch.tensor(data)\n",
    "\n",
    "#tensor z tablicy numpy\n",
    "np_array = np.array(data)\n",
    "x_np = torch.from_numpy(np_array)\n",
    "\n",
    "#kopiowanie tensorów\n",
    "x_ones = torch.ones_like(x_data)\n",
    "print(f\"Ones Tensor: \\n {x_ones} \\n\")\n",
    "x_rand = torch.rand_like(x_data, dtype=torch.float)\n",
    "print(f\"Random Tensor: \\n {x_rand} \\n\")\n",
    "\n",
    "#przykładowe szablony tensorów\n",
    "shape = (2,3,)\n",
    "rand_tensor = torch.rand(shape)\n",
    "ones_tensor = torch.ones(shape)\n",
    "zeros_tensor = torch.zeros(shape)\n",
    "\n",
    "print(f\"Random Tensor: \\n {rand_tensor} \\n\")\n",
    "print(f\"Ones Tensor: \\n {ones_tensor} \\n\")\n",
    "print(f\"Zeros Tensor: \\n {zeros_tensor} \\n\")"
   ]
  },
  {
   "cell_type": "code",
   "execution_count": 11,
   "id": "greek-invite",
   "metadata": {},
   "outputs": [
    {
     "name": "stdout",
     "output_type": "stream",
     "text": [
      "Shape of tensor: torch.Size([3, 4])\n",
      "Datatype of tensor: torch.float32\n",
      "Device tensor is store on: cpu\n"
     ]
    }
   ],
   "source": [
    "#atrybuty tensorów\n",
    "tensor = torch.rand(3,4)\n",
    "\n",
    "print(f\"Shape of tensor: {tensor.shape}\")\n",
    "print(f\"Datatype of tensor: {tensor.dtype}\")\n",
    "print(f\"Device tensor is store on: {tensor.device}\")"
   ]
  },
  {
   "cell_type": "code",
   "execution_count": 24,
   "id": "recreational-durham",
   "metadata": {},
   "outputs": [
    {
     "name": "stdout",
     "output_type": "stream",
     "text": [
      "\n",
      " tensor([[1., 0., 1., 1.],\n",
      "        [1., 0., 1., 1.],\n",
      "        [1., 0., 1., 1.],\n",
      "        [1., 0., 1., 1.]]) \n",
      "\n",
      "\n",
      " tensor([[1., 0., 1., 1., 1., 0., 1., 1., 1., 0., 1., 1.],\n",
      "        [1., 0., 1., 1., 1., 0., 1., 1., 1., 0., 1., 1.],\n",
      "        [1., 0., 1., 1., 1., 0., 1., 1., 1., 0., 1., 1.],\n",
      "        [1., 0., 1., 1., 1., 0., 1., 1., 1., 0., 1., 1.]]) \n",
      "\n",
      "tensor.mul(tensor) \n",
      " tensor([[1., 0., 1., 1.],\n",
      "        [1., 0., 1., 1.],\n",
      "        [1., 0., 1., 1.],\n",
      "        [1., 0., 1., 1.]]) \n",
      "\n",
      "tensor * tensor \n",
      " tensor([[1., 0., 1., 1.],\n",
      "        [1., 0., 1., 1.],\n",
      "        [1., 0., 1., 1.],\n",
      "        [1., 0., 1., 1.]]) \n",
      "\n",
      "tensor.matmul(tensor.T) \n",
      " tensor([[3., 3., 3., 3.],\n",
      "        [3., 3., 3., 3.],\n",
      "        [3., 3., 3., 3.],\n",
      "        [3., 3., 3., 3.]]) \n",
      "\n",
      "tensor @ tensor.T \n",
      " tensor([[3., 3., 3., 3.],\n",
      "        [3., 3., 3., 3.],\n",
      "        [3., 3., 3., 3.],\n",
      "        [3., 3., 3., 3.]]) \n",
      "\n",
      "tensor([[1., 0., 1., 1.],\n",
      "        [1., 0., 1., 1.],\n",
      "        [1., 0., 1., 1.],\n",
      "        [1., 0., 1., 1.]]) \n",
      "\n",
      "tensor([[6., 5., 6., 6.],\n",
      "        [6., 5., 6., 6.],\n",
      "        [6., 5., 6., 6.],\n",
      "        [6., 5., 6., 6.]])\n"
     ]
    }
   ],
   "source": [
    "#operacje na tensorach\n",
    "\n",
    "#przerzucenie na urządzenie CUDA\n",
    "if torch.cuda.is_available():\n",
    "    tensor = tensor.to('cuda')\n",
    "\n",
    "#indeksowanie i slice'owanie\n",
    "tensor = torch.ones(4,4)\n",
    "tensor[:,1] = 0\n",
    "print(f\"\\n {tensor} \\n\")\n",
    "\n",
    "#łączenie tensorów\n",
    "t1 = torch.cat([tensor, tensor, tensor], dim=1)\n",
    "print(f\"\\n {t1} \\n\")\n",
    "\n",
    "#mnożenie tensorów\n",
    "print(f\"tensor.mul(tensor) \\n {tensor.mul(tensor)} \\n\")\n",
    "#albo\n",
    "print(f\"tensor * tensor \\n {tensor * tensor} \\n\")\n",
    "\n",
    "#matrycowe mnożenie tensorów\n",
    "print(f\"tensor.matmul(tensor.T) \\n {tensor.matmul(tensor.T)} \\n\")\n",
    "#albo\n",
    "print(f\"tensor @ tensor.T \\n {tensor @ tensor.T} \\n\")\n",
    "\n",
    "#operacje zmieniające\n",
    "print(tensor, \"\\n\")\n",
    "tensor.add_(5)\n",
    "print(tensor)"
   ]
  },
  {
   "cell_type": "code",
   "execution_count": 27,
   "id": "accurate-spray",
   "metadata": {},
   "outputs": [
    {
     "name": "stdout",
     "output_type": "stream",
     "text": [
      "t: tensor([1., 1., 1., 1., 1.])\n",
      "n: [1. 1. 1. 1. 1.]\n",
      "t: tensor([2., 2., 2., 2., 2.])\n",
      "n: [2. 2. 2. 2. 2.]\n",
      "n: [1. 1. 1. 1. 1.]\n",
      "t: tensor([1., 1., 1., 1., 1.], dtype=torch.float64)\n",
      "n: [2. 2. 2. 2. 2.]\n",
      "t: tensor([2., 2., 2., 2., 2.], dtype=torch.float64)\n"
     ]
    }
   ],
   "source": [
    "#tensory na CPU i array'e NumPy mogą współdzielić miejsce w pamięci\n",
    "#zmiana jednego zmienia drugi\n",
    "\n",
    "#tensor to NumPy array\n",
    "t = torch.ones(5)\n",
    "print(f\"t: {t}\")\n",
    "n = t.numpy()\n",
    "print(f\"n: {n}\")\n",
    "\n",
    "t.add_(1)\n",
    "print(f\"t: {t}\")\n",
    "print(f\"n: {n}\")\n",
    "\n",
    "#NumPy array to tensor\n",
    "n = np.ones(5)\n",
    "t = torch.from_numpy(n)\n",
    "print(f\"n: {n}\")\n",
    "print(f\"t: {t}\")\n",
    "\n",
    "np.add(n, 1, out=n)\n",
    "print(f\"n: {n}\")\n",
    "print(f\"t: {t}\")"
   ]
  },
  {
   "cell_type": "markdown",
   "id": "graduate-small",
   "metadata": {},
   "source": [
    "## Autograd - automatyczna dyferencjacja tensorów"
   ]
  },
  {
   "cell_type": "markdown",
   "id": "demographic-concentration",
   "metadata": {},
   "source": [
    "Autograd pomaga z trenowaniem modelu ML.\n",
    "\n",
    "Sieci neuronowe to kolekcje zagnieżdżonych funkcji wykonywanych na podawanych danych. Te funkcje są definiowane przez parametry (weight oraz bias), które przechowywane są w tensorach.\n",
    "\n",
    "\n",
    "Trenowanie sieci to dwa proste kroki:\n",
    "\n",
    "<b>Forward pass</b> - sieć podejmuje decyzje co do wyniku poprzez przeprowadzenie danych przez każdą z funkcji.\n",
    "\n",
    "<b>Backward pass</b> - sieć dostosowywuje swoje parametry proporcjonalnie do błędu dokonanego w swojej decyzji poprzez wykonanie poprzednich funkcji wstecz, od końca do początku. Zbiera w ten sposób dane o błędzie względem parametrów funkcji (gradient) i optymalizuje parmetry tymi danymi."
   ]
  },
  {
   "cell_type": "markdown",
   "id": "pacific-musician",
   "metadata": {},
   "source": [
    "<b>Przykładowy pojedynczy krok</b>\n",
    "\n",
    "Dla przykładu ładujemy gotowy przetrenowany model z biblioteki <i>torchvision</i>. Tworzymy losowy tensor reprezentujący pojedynczy obraz z 3 kanałami (r,g,b), o wysokości i szerokości 64. Jego <i>label</i> inicjalizujemy jako losowa wartość."
   ]
  },
  {
   "cell_type": "code",
   "execution_count": 4,
   "id": "engaged-quebec",
   "metadata": {},
   "outputs": [],
   "source": [
    "#zaimportowanie gotowego przetrenowanego sample modelu\n",
    "model = torchvision.models.resnet18(pretrained=True)\n",
    "\n",
    "#nasz losowy tensor\n",
    "data = torch.rand(1, 3, 64, 64)\n",
    "\n",
    "#losowy label\n",
    "labels = torch.rand(1, 1000)"
   ]
  },
  {
   "cell_type": "markdown",
   "id": "inside-turkish",
   "metadata": {},
   "source": [
    "Następnie przepuszczamy dane przez każdą z warstw tego modelu, by uzyskać predyckję. To jest nasz <b>forward</b> pass."
   ]
  },
  {
   "cell_type": "code",
   "execution_count": 7,
   "id": "constant-blind",
   "metadata": {},
   "outputs": [
    {
     "name": "stdout",
     "output_type": "stream",
     "text": [
      "tensor([[-7.1515e-01, -4.3022e-01, -7.0091e-01, -1.5809e+00, -5.0087e-01,\n",
      "         -2.9862e-01, -4.7813e-01,  4.1816e-01,  2.8585e-01, -8.7470e-01,\n",
      "         -8.9103e-01, -6.5719e-01, -1.0810e-01, -7.5986e-01, -9.9181e-01,\n",
      "         -5.9462e-01, -5.7904e-01, -8.3910e-03, -1.6481e-01, -2.3170e-01,\n",
      "         -1.3296e+00, -8.3072e-01, -1.3147e+00,  1.8451e-01, -1.0068e+00,\n",
      "         -1.1954e+00, -7.7654e-01, -1.0936e+00, -8.3074e-01, -3.3485e-01,\n",
      "         -9.2618e-01, -9.1370e-01, -5.4308e-01, -8.7086e-01, -5.5538e-01,\n",
      "         -7.2645e-01,  2.4075e-01, -7.6798e-01, -3.3602e-01, -2.5175e-01,\n",
      "         -7.6118e-01, -7.7337e-01, -1.1291e+00, -2.1220e-01, -4.7900e-01,\n",
      "         -2.7036e-01, -9.4719e-01, -4.0640e-01, -1.3562e+00, -1.5504e+00,\n",
      "         -7.1998e-01,  4.4067e-01, -2.3189e-01, -6.4793e-01,  2.0765e-01,\n",
      "         -9.1033e-01, -2.1402e-01, -1.1579e+00, -5.3835e-01, -3.1625e-01,\n",
      "          6.5600e-01,  1.1076e-01, -3.7563e-02,  1.9568e-01, -5.4144e-01,\n",
      "         -2.6035e-01, -8.4322e-02, -2.2585e-01, -6.2411e-01, -1.0782e+00,\n",
      "         -1.7635e+00,  3.3796e-02, -1.2947e+00, -4.1584e-01, -1.3241e+00,\n",
      "         -1.3096e+00,  2.2839e-03, -6.1054e-01,  1.7086e-01,  2.9220e-01,\n",
      "         -6.9801e-01, -1.7526e+00, -4.5529e-02, -7.4195e-01, -5.2740e-01,\n",
      "          1.7537e-02,  2.2561e-02,  1.1671e-01,  2.7206e-02, -7.0092e-01,\n",
      "         -1.2135e+00, -1.0898e+00, -1.7063e+00, -1.1373e-01,  3.0510e-01,\n",
      "         -1.8746e+00, -2.7926e-01, -2.8961e-01, -1.4781e+00, -3.0922e-01,\n",
      "         -1.3633e+00, -9.6991e-01, -9.2269e-01, -7.1088e-01, -3.2427e-01,\n",
      "         -5.5587e-01, -5.9395e-01, -1.2035e+00, -8.1275e-01, -1.4172e+00,\n",
      "         -1.1691e+00, -6.5522e-01,  1.1089e+00,  2.7757e-01,  2.5331e-01,\n",
      "         -8.8766e-01, -1.0127e+00,  1.0192e-01,  4.5612e-01, -5.6303e-01,\n",
      "         -7.4176e-01,  2.6492e-02,  3.4723e-01,  2.1010e-01,  1.3643e+00,\n",
      "         -3.7085e-02,  4.7095e-01, -1.2676e+00, -1.1545e+00, -1.1389e+00,\n",
      "         -1.2170e+00, -1.3882e+00, -8.7666e-01, -1.3751e+00, -5.6876e-01,\n",
      "         -1.4572e+00, -1.0039e+00, -1.3688e+00, -1.4567e+00, -1.6588e+00,\n",
      "         -1.7728e+00, -1.9693e+00, -2.3988e+00, -1.4940e+00, -4.3377e-01,\n",
      "         -3.0174e-01, -7.6727e-01, -2.1371e+00, -1.0702e+00, -1.6498e+00,\n",
      "          5.0366e-01,  1.3873e+00, -1.2499e+00, -8.5166e-01, -1.6959e-01,\n",
      "         -4.4834e-03, -5.1187e-01, -4.0080e-01,  2.2158e-01,  1.2821e-01,\n",
      "          3.5012e-01,  6.4698e-01,  3.5783e-02,  6.9149e-01,  1.8589e-01,\n",
      "         -7.9398e-02, -1.6749e-01, -3.5822e-01,  6.3650e-01, -4.6129e-01,\n",
      "         -2.4960e-01,  1.2162e+00,  4.8667e-01,  4.1169e-01,  1.2386e-01,\n",
      "         -8.0895e-01,  1.7206e-01, -1.8463e-01,  7.1669e-01,  3.9511e-01,\n",
      "          5.0443e-01, -7.7802e-02,  1.4217e-01, -6.6457e-02,  6.5437e-01,\n",
      "          3.8510e-01,  2.1632e-01, -8.4559e-03, -2.0005e-01,  1.4760e-01,\n",
      "         -7.9493e-01,  1.4096e-01,  1.4282e-01,  4.1870e-01, -1.0803e+00,\n",
      "          8.1462e-01,  1.7096e-01,  1.9840e-01,  2.4700e-01,  2.7397e-01,\n",
      "         -2.5039e-01, -3.5184e-02,  5.0775e-01,  1.6975e-01, -1.2898e-01,\n",
      "          2.7456e-01, -4.7174e-02,  3.1789e-01,  8.6983e-01,  3.5402e-01,\n",
      "         -2.6679e-01,  2.5716e-01,  2.7633e-02, -1.0727e-01, -3.6847e-01,\n",
      "          2.4508e-01, -1.9146e-01,  2.3666e-01, -6.4587e-01,  3.2222e-01,\n",
      "         -1.2132e-01, -3.3431e-01, -1.9517e-01,  6.5926e-01,  2.8188e-01,\n",
      "          5.6471e-01,  1.1998e-01,  5.8584e-01, -4.0389e-01, -7.8874e-02,\n",
      "         -1.0293e-01,  1.5505e-01,  1.4441e-01, -3.5300e-01,  4.4953e-01,\n",
      "          8.5055e-01,  5.7161e-01,  3.9141e-01,  5.5762e-01, -5.3121e-01,\n",
      "          1.8594e-01, -4.8749e-01,  3.7816e-01,  8.0667e-02, -5.2984e-01,\n",
      "          2.5897e-01,  6.1867e-01, -1.6701e-01,  5.6243e-01,  2.4823e-04,\n",
      "          3.7680e-01,  4.9501e-01, -1.0815e+00,  8.2621e-01,  7.6367e-01,\n",
      "         -8.4414e-01,  3.3574e-01,  6.7926e-02, -3.1994e-01, -1.7388e-02,\n",
      "         -3.9801e-01, -5.8925e-01, -4.7442e-01,  5.2307e-02,  2.7115e-01,\n",
      "          2.9040e-01,  9.2088e-02,  6.2628e-01,  1.8426e-01, -6.6372e-01,\n",
      "         -1.1213e+00, -1.1034e+00, -6.6568e-01,  4.6640e-01, -1.2907e+00,\n",
      "         -1.1944e+00, -1.3080e+00, -8.7207e-01, -1.3555e+00, -7.2488e-01,\n",
      "         -3.4213e-01,  6.5327e-01,  5.8495e-01, -1.5060e-01,  2.7730e-01,\n",
      "          7.8887e-01, -2.9740e-01, -3.8853e-01, -8.8021e-01, -1.7972e+00,\n",
      "         -1.2008e+00, -1.5279e+00, -6.5480e-01, -1.1954e+00, -1.1889e+00,\n",
      "         -1.0042e+00, -1.0206e+00, -1.4541e+00, -6.1433e-01, -2.6964e-01,\n",
      "         -1.7375e+00, -8.8084e-01, -2.8646e-01, -2.1208e-01, -1.2163e+00,\n",
      "         -6.6667e-01,  7.1477e-03, -7.8322e-01, -1.1837e+00, -3.7838e-01,\n",
      "          4.6663e-01, -3.7180e-01, -3.5075e-01,  4.0156e-01,  7.1470e-01,\n",
      "         -1.6592e-01, -8.6408e-01, -1.1650e+00, -1.3492e+00, -8.4067e-01,\n",
      "         -1.4598e+00, -1.2015e+00, -1.6360e+00, -1.5776e+00, -1.5339e+00,\n",
      "         -1.7486e+00, -1.4313e+00,  2.9510e-02, -1.5159e-01, -3.1933e-01,\n",
      "         -2.1992e-01, -5.1627e-01, -8.7350e-02,  2.2039e-01, -4.6644e-01,\n",
      "         -9.0334e-01, -1.6948e+00, -1.9618e-01,  4.5265e-01, -9.8774e-01,\n",
      "         -4.8011e-01,  4.0922e-01, -7.4026e-01, -1.4734e+00, -9.3331e-01,\n",
      "          5.6367e-01, -8.3505e-01, -1.9694e+00, -6.8614e-02, -1.1999e+00,\n",
      "         -1.2659e+00, -2.3612e+00, -1.3253e+00, -6.7367e-01, -6.6235e-01,\n",
      "          2.3775e-01,  8.0420e-01, -1.3393e-01,  3.8759e-01,  3.4760e-01,\n",
      "         -4.8203e-01,  4.6920e-01, -3.0158e-01,  4.6967e-01, -4.3586e-01,\n",
      "         -5.0695e-01, -1.0628e+00, -5.4469e-01, -8.0715e-01, -6.1921e-01,\n",
      "         -5.6386e-01, -2.8532e-01, -1.7107e-01, -1.3226e-01, -1.7628e-01,\n",
      "         -7.9955e-01, -9.5259e-01,  1.2547e-01, -4.8880e-01, -6.6701e-01,\n",
      "         -5.9173e-03, -3.9502e-01, -2.1429e-01, -7.1435e-01, -8.5778e-01,\n",
      "         -5.3104e-01, -9.4534e-01, -1.2683e+00, -8.8936e-01, -1.2253e-01,\n",
      "          6.7954e-01,  2.0717e-01, -1.2687e+00, -1.3837e+00, -1.1944e-01,\n",
      "          7.1670e-01, -1.2162e+00, -6.2106e-01,  6.6742e-01, -6.9171e-02,\n",
      "         -9.1692e-01,  8.0365e-01,  5.1486e-02, -2.0459e+00, -1.7853e+00,\n",
      "         -6.1051e-01, -1.3732e-01, -2.2567e-01, -2.1482e-01,  1.1463e+00,\n",
      "         -9.4709e-02,  7.7556e-02,  1.9416e+00,  9.6521e-01,  4.1753e-01,\n",
      "          1.1713e+00, -1.8591e-01,  3.9421e-01,  1.4872e-01,  1.0439e+00,\n",
      "          6.9037e-01,  1.3849e+00,  1.8137e-01,  5.2393e-01,  2.4280e-01,\n",
      "         -8.6387e-01,  4.4413e-02,  1.4404e+00,  1.8948e+00,  5.8678e-01,\n",
      "         -8.5172e-01,  2.3744e-01,  3.3607e-01,  8.2124e-01,  4.2504e-01,\n",
      "          9.0624e-01, -3.3461e-01, -2.9888e-01,  6.0283e-01,  4.9605e-01,\n",
      "          6.9177e-01,  4.3390e-01,  1.7213e-01, -4.6532e-01, -4.7015e-01,\n",
      "          2.7608e-01,  1.4760e-01,  1.6010e+00,  1.1672e+00, -4.3499e-01,\n",
      "         -1.8484e-01,  5.7139e-01,  7.2340e-01, -1.8023e-01, -4.8933e-01,\n",
      "          4.7066e-01,  1.7413e+00,  1.0560e+00, -3.1129e-01,  7.8049e-01,\n",
      "         -8.5057e-01,  6.1505e-01,  1.5390e+00,  2.3450e+00,  9.5668e-01,\n",
      "         -2.3582e-02, -1.2074e+00, -9.6897e-02,  4.3705e-02,  1.6020e+00,\n",
      "          1.0359e+00,  7.5749e-01,  3.0762e-01,  8.3735e-01, -3.2735e-01,\n",
      "          1.2114e-01,  1.5821e-01,  3.8622e-01,  8.0363e-01,  4.8421e-01,\n",
      "          1.8842e-01,  3.1327e-01,  3.8410e-01, -1.0371e+00, -1.3614e+00,\n",
      "         -1.5827e-01, -3.8777e-01,  1.3148e+00,  1.6735e+00,  1.2877e+00,\n",
      "          4.6082e-01,  1.0101e+00,  3.6780e-01, -1.3850e+00,  1.2894e+00,\n",
      "         -1.0646e+00,  1.8851e-01, -5.2820e-01, -4.0818e-01,  1.3467e+00,\n",
      "         -1.3872e+00,  5.1618e-01,  1.3569e+00,  5.3754e-01,  1.0026e+00,\n",
      "          1.2304e+00,  1.3150e+00,  4.7686e-01,  2.3144e-01,  4.4790e-01,\n",
      "         -1.2589e+00, -7.7504e-01,  9.6829e-01,  4.8797e-01,  1.2207e+00,\n",
      "          2.0422e+00,  6.0223e-01,  2.8551e-01,  1.4352e+00,  7.4118e-01,\n",
      "         -8.6890e-01,  2.4731e-01,  1.3726e+00,  1.9846e+00,  4.3772e-01,\n",
      "         -4.0567e-01, -3.0399e-01, -7.3754e-01,  4.2950e-01,  2.5457e-01,\n",
      "          1.0186e+00,  1.9986e-01,  9.3509e-02, -8.2968e-01,  3.1264e-01,\n",
      "         -3.0486e-01, -2.8560e-01, -6.6147e-01,  1.1745e-01,  1.0862e+00,\n",
      "         -1.2912e+00,  1.2998e+00,  9.4433e-01,  1.0711e+00,  2.9332e-01,\n",
      "          8.5632e-01,  4.3724e-01, -1.8894e+00, -1.2093e+00, -2.3906e-01,\n",
      "         -2.3339e-01,  2.1281e-01,  6.5975e-01, -2.6964e-01, -1.3728e+00,\n",
      "         -6.4890e-01,  1.7337e-01,  4.1460e-01,  1.4134e+00,  6.3928e-01,\n",
      "          1.4622e-01,  1.5569e-01,  8.5283e-01,  3.3867e-01, -1.0895e+00,\n",
      "         -8.1290e-01,  1.8214e-01,  8.3138e-01,  4.0324e-01, -3.4023e-01,\n",
      "          1.3368e+00,  1.7551e-01,  1.0890e+00, -5.0736e-01,  5.5411e-01,\n",
      "          5.4932e-02, -6.9129e-01,  1.1863e+00,  3.0559e-01,  2.7821e-01,\n",
      "          1.6284e-01, -3.0289e-01,  7.7089e-01,  7.1635e-01,  1.2224e+00,\n",
      "          1.0773e+00, -1.1320e-01,  1.6638e+00,  1.3067e+00,  1.5893e+00,\n",
      "         -4.8816e-01,  4.0941e-01, -1.0885e+00,  9.4855e-01,  2.6791e-01,\n",
      "         -2.5571e-01,  1.4078e+00, -3.6572e-02, -6.7074e-01,  1.1674e+00,\n",
      "          2.1891e+00, -6.3697e-02, -2.4078e-02, -3.0346e-01,  6.9382e-01,\n",
      "          2.8309e-01,  1.3440e+00, -3.5889e-01,  5.8115e-01, -1.2140e-01,\n",
      "          8.4730e-01,  4.7819e-01, -2.1917e-01,  9.1970e-01, -5.3766e-02,\n",
      "          4.1225e-01,  1.2378e+00,  6.6049e-01,  1.9140e+00,  9.5369e-01,\n",
      "          7.6964e-01,  8.5775e-01,  5.5773e-02,  3.1124e-01, -6.9777e-04,\n",
      "         -1.2454e+00,  7.6346e-01, -3.2989e-01, -9.2725e-01,  4.2469e-01,\n",
      "          1.5710e-01,  1.0978e+00,  9.3234e-01,  1.2942e+00,  3.6337e-02,\n",
      "          2.2245e-01,  1.2283e+00,  7.7154e-01,  7.4362e-01,  3.8731e-01,\n",
      "         -2.0554e+00,  1.2724e+00, -4.2872e-02,  1.5552e+00,  8.0685e-01,\n",
      "         -1.0098e+00,  3.2777e-01,  5.1511e-01, -7.5139e-01, -1.8419e+00,\n",
      "          1.0522e+00,  1.1949e-01,  8.1986e-01,  8.4993e-01,  2.5459e-02,\n",
      "          6.7119e-01, -2.4088e-02,  2.4947e-01,  2.6601e-01,  4.8816e-01,\n",
      "          9.5505e-02, -6.3902e-01, -2.4132e-01, -8.9793e-01,  7.4139e-01,\n",
      "          2.5636e-01,  1.3852e+00,  1.3965e-01, -6.5001e-01, -4.2314e-01,\n",
      "          3.7102e-01, -2.1867e-01, -3.3819e-01,  7.3074e-01,  1.3244e+00,\n",
      "         -5.2869e-01,  1.7909e+00,  9.0382e-01,  1.3001e+00,  2.2739e-01,\n",
      "          7.5769e-01,  3.0335e-01, -8.8944e-01,  5.3181e-01,  8.4601e-01,\n",
      "         -1.2253e+00,  7.9016e-02, -9.6836e-01, -2.8422e-01, -8.6375e-01,\n",
      "         -3.6807e-01,  9.4766e-01,  9.2877e-01,  7.6199e-01, -5.6692e-01,\n",
      "          6.7985e-01,  1.8380e+00, -6.9373e-02, -3.9911e-01,  7.6533e-01,\n",
      "          2.0259e+00, -3.0346e-01, -3.2356e-02,  4.8450e-01,  9.4963e-01,\n",
      "         -3.6819e-01, -2.8245e-01,  5.1334e-01,  7.9828e-01,  7.8874e-02,\n",
      "          9.9495e-01,  1.0434e+00, -7.9550e-02, -5.2146e-01,  1.5026e-01,\n",
      "         -3.1648e-01,  7.2166e-01, -6.0341e-01, -4.7438e-01,  6.3435e-01,\n",
      "          1.2229e-01,  4.0313e-01,  1.4114e+00,  4.7954e-01, -3.2351e-01,\n",
      "          1.0801e+00, -5.4558e-01, -5.2926e-02,  1.6330e+00, -6.2267e-01,\n",
      "          4.3963e-01,  2.4089e+00, -5.2920e-01,  2.0582e+00, -1.4994e+00,\n",
      "          4.9732e-02,  5.5958e-02,  7.7729e-01,  1.1830e+00,  2.1032e-01,\n",
      "          1.3800e+00, -3.1119e-01,  3.5607e-01,  2.0617e-01,  8.8561e-01,\n",
      "         -1.4668e-01, -2.4755e-02,  1.1395e+00,  7.3111e-01,  1.7307e+00,\n",
      "          5.3969e-01,  9.8207e-02,  2.3488e-01,  2.7922e-01,  8.4653e-01,\n",
      "         -8.2652e-01,  1.1814e+00,  2.5378e-02,  1.6600e+00,  1.6040e-02,\n",
      "         -3.0765e-02,  7.3163e-01,  4.3488e-01,  1.1678e+00,  1.5256e+00,\n",
      "          1.0783e+00,  4.9935e-01,  3.2639e-01, -3.8225e-01,  1.1459e+00,\n",
      "          5.1693e-01,  1.3726e-01,  1.4043e+00,  4.3370e-01,  1.0043e+00,\n",
      "          3.2548e-01,  6.0258e-01,  7.8338e-01,  1.2860e+00, -6.0381e-01,\n",
      "         -6.7656e-01, -8.3572e-01,  9.8113e-01,  8.2536e-01,  1.6012e+00,\n",
      "          4.4300e-01,  5.1749e-01,  1.2256e+00,  5.0148e-01, -2.8415e-01,\n",
      "          6.5035e-01,  9.2821e-01,  1.9442e+00,  1.0136e+00,  3.4307e-01,\n",
      "          2.0672e-01,  1.2447e+00,  6.6494e-01, -8.4470e-01,  3.2887e-01,\n",
      "         -9.6742e-01,  2.8162e-01, -1.0348e+00, -8.3023e-01,  1.2028e+00,\n",
      "          1.1372e+00,  5.6955e-01,  1.6903e-01,  1.5290e+00, -1.5614e-01,\n",
      "         -2.7959e-01,  1.0283e+00, -6.9164e-02,  1.6433e+00, -9.8426e-01,\n",
      "         -3.6552e-01,  6.0211e-01, -1.1402e+00,  1.6070e+00,  3.3207e-01,\n",
      "         -1.5271e+00, -1.0403e+00,  1.6783e-01,  6.1668e-01,  9.9399e-01,\n",
      "         -8.3002e-01,  3.8680e-01,  7.4510e-01,  1.3064e+00, -5.8904e-01,\n",
      "          9.3585e-01,  4.8339e-01, -5.8627e-01, -7.2742e-01,  7.1871e-02,\n",
      "          2.6238e-01,  1.7025e+00,  1.4697e+00,  1.1915e+00, -6.0107e-01,\n",
      "          1.5780e+00,  4.0847e-01,  3.3071e-01,  6.4566e-01,  6.6222e-01,\n",
      "          1.8537e+00,  9.3733e-01, -2.1641e-01,  2.9366e-01,  7.8941e-01,\n",
      "          1.3955e+00,  1.3189e+00,  1.7863e+00, -2.5638e-01, -5.5672e-01,\n",
      "          7.6468e-01, -9.2432e-03, -1.6997e-01, -3.2156e-01,  1.1650e+00,\n",
      "          3.0087e-01,  1.3696e+00,  1.0846e+00,  4.5317e-03, -9.2931e-02,\n",
      "          5.1764e-01,  2.4509e-01, -3.4609e-02,  1.3503e+00, -5.6563e-01,\n",
      "          1.2298e+00, -1.0288e+00,  1.2461e+00, -1.0088e+00, -2.0693e+00,\n",
      "          3.5162e-01,  1.4317e+00, -3.3592e-01, -2.8808e-02,  1.3980e+00,\n",
      "          9.8222e-01, -2.0604e-01,  1.3379e+00,  1.2083e+00, -5.4643e-02,\n",
      "          2.5722e-01, -3.7379e-01, -4.2434e-01, -1.1135e+00,  3.1551e-01,\n",
      "          2.6786e-02,  3.2018e-02,  8.9136e-01,  5.4961e-02, -1.0456e+00,\n",
      "         -4.3972e-01,  1.0027e+00,  7.5900e-01,  1.9297e+00,  1.9454e+00,\n",
      "         -9.7167e-01, -4.9916e-01,  1.6440e+00,  9.2265e-01,  7.9715e-01,\n",
      "          2.7378e-03, -5.0048e-01,  1.4747e+00, -9.6870e-01,  1.0291e+00,\n",
      "          1.3254e+00,  1.1252e+00,  9.5366e-01, -3.5003e-01, -1.6035e+00,\n",
      "         -5.7899e-01,  1.8796e-01,  2.2515e-01,  5.7598e-01,  3.5910e-01,\n",
      "          3.3976e-01,  1.1286e+00, -6.9533e-01,  4.5964e-01, -3.3630e-01,\n",
      "         -9.7888e-01, -9.8751e-01, -6.9592e-01, -2.5950e-01,  1.3084e+00,\n",
      "         -3.0507e-01, -3.0373e-02,  5.2536e-01, -1.8490e+00, -4.0590e-02,\n",
      "         -6.5090e-01,  3.1996e-01,  1.6368e-01, -3.6430e-02,  1.4325e-01,\n",
      "         -3.6021e-02, -5.2720e-01, -1.8711e-01,  4.3917e-01, -4.9279e-01,\n",
      "         -5.9664e-01, -1.1742e+00,  2.8834e-01,  8.4875e-01, -2.2255e-01,\n",
      "          3.5763e-01, -1.9617e-01, -5.7586e-01,  3.7659e-01,  7.5385e-01,\n",
      "         -8.8249e-02, -1.5432e-01, -5.7500e-01,  1.7234e-01, -9.9104e-01,\n",
      "          1.9154e-01,  2.3646e-01, -5.9206e-01, -1.0395e+00, -1.5475e+00,\n",
      "         -4.2135e-01,  7.6663e-01, -3.8784e-01,  7.0676e-01,  3.3622e-02,\n",
      "         -1.7018e-01,  8.4644e-01, -3.7363e-01, -3.9524e-01, -2.1711e+00,\n",
      "          8.4715e-01, -1.8341e+00,  4.1286e-01, -2.9117e-02, -7.1458e-01,\n",
      "         -8.5672e-01,  1.1850e-01,  5.7423e-01, -4.3226e-01, -9.1542e-01,\n",
      "         -1.2348e+00, -2.1602e+00,  1.5980e+00,  1.4672e-01, -7.0944e-01,\n",
      "         -2.6987e-01, -1.1102e+00, -7.7450e-01, -1.8890e+00, -7.7537e-01,\n",
      "         -2.5560e-01,  2.5799e-01, -6.1609e-01,  1.6430e+00,  1.0353e+00]],\n",
      "       grad_fn=<AddmmBackward>)\n"
     ]
    }
   ],
   "source": [
    "prediction = model(data)\n",
    "\n",
    "print(prediction)"
   ]
  },
  {
   "cell_type": "markdown",
   "id": "fourth-ensemble",
   "metadata": {},
   "source": [
    "Następnie używamy predykcji naszego modelu i labela do wyliczenia błędu. Wykonujemy <b>backward pass</b> na naszym wyniku. Robimy to poprzez wywołanie `.backward()` na tensorze błędu.\n",
    "\n",
    "Autograd sam wylicza gradnienty dla każdego parametru modelu i przetrzymuje je w parametrze `.grad` tensora."
   ]
  },
  {
   "cell_type": "code",
   "execution_count": 12,
   "id": "legislative-channel",
   "metadata": {},
   "outputs": [
    {
     "name": "stdout",
     "output_type": "stream",
     "text": [
      "tensor(-487.9036, grad_fn=<SumBackward0>)\n"
     ]
    }
   ],
   "source": [
    "#tworzymy tensor błędu\n",
    "loss = (prediction - labels).sum()\n",
    "\n",
    "#wykonujemy backward pass\n",
    "loss.backward()\n",
    "\n",
    "print(loss)"
   ]
  },
  {
   "cell_type": "markdown",
   "id": "headed-philip",
   "metadata": {},
   "source": [
    "Następnie ładujemy optimizer (dokładniej: SGD - tego nie musicie szczegółowo wiedzieć) z <i>learning rate = 0.01</i> i <i>momentum = 0.9</i>.\n",
    "\n",
    "Rejestrujemy wszystkie parametry modelu w optimizerze."
   ]
  },
  {
   "cell_type": "code",
   "execution_count": 13,
   "id": "primary-fields",
   "metadata": {},
   "outputs": [],
   "source": [
    "optim = torch.optim.SGD(model.parameters(), lr=1e-2, momentum=0.9)"
   ]
  },
  {
   "cell_type": "markdown",
   "id": "understood-italic",
   "metadata": {},
   "source": [
    "Wykonujemy `.step()` by zainicjować gradientację naszego modelu.\n",
    "To dostraja każdy parametr jego gradientem uzyskanym wcześniej."
   ]
  },
  {
   "cell_type": "code",
   "execution_count": 14,
   "id": "legitimate-influence",
   "metadata": {},
   "outputs": [],
   "source": [
    "optim.step()"
   ]
  },
  {
   "cell_type": "markdown",
   "id": "casual-delta",
   "metadata": {},
   "source": [
    "## Sieci Neuronowe"
   ]
  },
  {
   "cell_type": "markdown",
   "id": "future-option",
   "metadata": {},
   "source": [
    "Sieci neuronowe tworzy się z użyciem pakietu ```torch.nn```."
   ]
  },
  {
   "cell_type": "markdown",
   "id": "focused-increase",
   "metadata": {},
   "source": [
    "```nn``` polega na ```autograd``` by definiować modele i je odróżniać. ```nn.Module``` zawiera warstwy i metodę ```forward(input)``` która zwraca ```output```."
   ]
  },
  {
   "cell_type": "markdown",
   "id": "oriented-validation",
   "metadata": {},
   "source": [
    "Typowa procedura uczenia sieci:\n",
    "- Definiowanie sieci z \"nauczalnymi\" parmetrami (weights),\n",
    "- Iterowanie po zbiorze danych ```input```,\n",
    "- Przetwarzanie ```input``` przez sieć,\n",
    "- Obliczanie błędu (loss),\n",
    "- Propagacja gradientu przez parametry sieci,\n",
    "- Aktualizacja parametrów sieci (```weight = weight = learning_rate * gradient```),\n"
   ]
  },
  {
   "cell_type": "markdown",
   "id": "straight-ladder",
   "metadata": {},
   "source": [
    "### Definiowanie sieci:"
   ]
  },
  {
   "cell_type": "code",
   "execution_count": 4,
   "id": "positive-kuwait",
   "metadata": {},
   "outputs": [
    {
     "name": "stdout",
     "output_type": "stream",
     "text": [
      "Net(\n",
      "  (conv1): Conv2d(1, 6, kernel_size=(3, 3), stride=(1, 1))\n",
      "  (conv2): Conv2d(6, 16, kernel_size=(3, 3), stride=(1, 1))\n",
      "  (fc1): Linear(in_features=576, out_features=120, bias=True)\n",
      "  (fc2): Linear(in_features=120, out_features=84, bias=True)\n",
      "  (fc3): Linear(in_features=84, out_features=10, bias=True)\n",
      ")\n"
     ]
    }
   ],
   "source": [
    "#importy\n",
    "import torch\n",
    "import torch.nn as nn\n",
    "import torch.nn.functional as F\n",
    "\n",
    "#sieć\n",
    "class Net(nn.Module):\n",
    "\n",
    "    def __init__(self):\n",
    "        super(Net, self).__init__()\n",
    "        # 1 kanał wejścia (obrazek), 6 kanałów wyjścia, 3x3 kwadratowa konwolucja\n",
    "        # kernel\n",
    "        self.conv1 = nn.Conv2d(1, 6, 3)\n",
    "        self.conv2 = nn.Conv2d(6, 16, 3)\n",
    "        # po przekształceniu afinicznym: y = Wx + b\n",
    "        self.fc1 = nn.Linear(16 * 6 * 6, 120)  # 6*6 z wymiarów obrazka\n",
    "        self.fc2 = nn.Linear(120, 84)\n",
    "        self.fc3 = nn.Linear(84, 10)\n",
    "\n",
    "    def forward(self, x):\n",
    "        # Max pooling z okienka (2, 2)\n",
    "        x = F.max_pool2d(F.relu(self.conv1(x)), (2, 2))\n",
    "        # Jeśli rozmiar jest kwadratem to możemy jedynie wskazać jedną liczbę\n",
    "        x = F.max_pool2d(F.relu(self.conv2(x)), 2)\n",
    "        x = x.view(-1, self.num_flat_features(x))\n",
    "        x = F.relu(self.fc1(x))\n",
    "        x = F.relu(self.fc2(x))\n",
    "        x = self.fc3(x)\n",
    "        return x\n",
    "\n",
    "    def num_flat_features(self, x):\n",
    "        size = x.size()[1:]  # wszystkie wymiary poza wymiarem batch'a\n",
    "        num_features = 1\n",
    "        for s in size:\n",
    "            num_features *= s\n",
    "        return num_features\n",
    "\n",
    "\n",
    "net = Net()\n",
    "print(net)"
   ]
  },
  {
   "cell_type": "markdown",
   "id": "previous-temple",
   "metadata": {},
   "source": [
    "Trzeba zdefiniować jedynie funkcję ```forward```, a ```backward``` zostanie samo zdefiniowane przez ```autograd```. Można użyć dowolnych operacji na Tensorach w ```forward```.\n",
    "\n",
    "\"Nauczalne\" parametry modelu są zwracane przez ```net.parameters()```."
   ]
  },
  {
   "cell_type": "code",
   "execution_count": 5,
   "id": "linear-stupid",
   "metadata": {},
   "outputs": [
    {
     "name": "stdout",
     "output_type": "stream",
     "text": [
      "10\n",
      "torch.Size([6, 1, 3, 3])\n"
     ]
    }
   ],
   "source": [
    "params = list(net.parameters())\n",
    "print(len(params))\n",
    "print(params[0].size())  # conv1's .weight"
   ]
  },
  {
   "cell_type": "markdown",
   "id": "arranged-gilbert",
   "metadata": {},
   "source": [
    "Spróbujmy losowe obrazki wsadowe 32x32, bo takie przyjmuje nasza sieć."
   ]
  },
  {
   "cell_type": "code",
   "execution_count": 6,
   "id": "renewable-lloyd",
   "metadata": {},
   "outputs": [
    {
     "name": "stdout",
     "output_type": "stream",
     "text": [
      "tensor([[-0.0260,  0.0693,  0.1523, -0.1066, -0.1105, -0.0464, -0.0802, -0.1641,\n",
      "          0.0109, -0.0011]], grad_fn=<AddmmBackward>)\n"
     ]
    }
   ],
   "source": [
    "input = torch.randn(1, 1, 32, 32)\n",
    "out = net(input)\n",
    "print(out)"
   ]
  },
  {
   "cell_type": "markdown",
   "id": "welcome-electronics",
   "metadata": {},
   "source": [
    "Zerujemy buffery gradientu wszystkich parametrów losowymi gradientami."
   ]
  },
  {
   "cell_type": "code",
   "execution_count": 7,
   "id": "recovered-paintball",
   "metadata": {},
   "outputs": [],
   "source": [
    "net.zero_grad()\n",
    "out.backward(torch.rand(1,10))"
   ]
  },
  {
   "cell_type": "markdown",
   "id": "negative-invitation",
   "metadata": {},
   "source": [
    "### Funkcja Błędu (Loss)"
   ]
  },
  {
   "cell_type": "markdown",
   "id": "israeli-newcastle",
   "metadata": {},
   "source": [
    "Funkcja błędu przyjmuje parę (output, target) jako parametry i oblicza pojedynczą wartość, która jest przybliżeniem jak daleko output różni się od target.\n",
    "\n",
    "W pakiecie ```nn``` znajduje się kilka funkcji błędu. Najprostszą jest ```nn.MSELoss```, która oblicza błżd średniokwadratowy pomiędzy outputem a targetem.\n",
    "\n",
    "Np:"
   ]
  },
  {
   "cell_type": "code",
   "execution_count": 8,
   "id": "tender-browser",
   "metadata": {},
   "outputs": [
    {
     "name": "stdout",
     "output_type": "stream",
     "text": [
      "tensor(0.4805, grad_fn=<MseLossBackward>)\n"
     ]
    }
   ],
   "source": [
    "output = net(input)\n",
    "target = torch.randn(10)  # przykładowy target\n",
    "target = target.view(1, -1)  # przekształcenie target na ten sam kształt co output\n",
    "criterion = nn.MSELoss()\n",
    "\n",
    "loss = criterion(output, target)\n",
    "print(loss)"
   ]
  },
  {
   "cell_type": "markdown",
   "id": "genuine-worry",
   "metadata": {},
   "source": [
    "Śledząc ```loss``` we wstecznym kierunku używając jego atrybutu ```.grad_fn``` zobaczymy graf obliczeń wyglądający tak:"
   ]
  },
  {
   "cell_type": "markdown",
   "id": "burning-tomorrow",
   "metadata": {},
   "source": [
    "```input -> conv2d -> relu -> maxpool2d -> conv2d -> relu -> maxpool2d\n",
    "      -> view -> linear -> relu -> linear -> relu -> linear\n",
    "      -> MSELoss\n",
    "      -> loss```"
   ]
  },
  {
   "cell_type": "markdown",
   "id": "comparative-truck",
   "metadata": {},
   "source": [
    "Gdy wywołamy ```loss.backward()``` cały graf zostaje odróżniony, a Tensory w grafie z ```requires_grad=True``` będą miały ich Tensor ```.grad``` zakumulowany z gradientem.\n",
    "\n",
    "Dla ilustracji:"
   ]
  },
  {
   "cell_type": "code",
   "execution_count": 9,
   "id": "unexpected-ozone",
   "metadata": {},
   "outputs": [
    {
     "name": "stdout",
     "output_type": "stream",
     "text": [
      "<MseLossBackward object at 0x12e052e80>\n",
      "<AddmmBackward object at 0x12e052c40>\n",
      "<AccumulateGrad object at 0x12e052e80>\n"
     ]
    }
   ],
   "source": [
    "print(loss.grad_fn)  # MSELoss\n",
    "print(loss.grad_fn.next_functions[0][0])  # Linear\n",
    "print(loss.grad_fn.next_functions[0][0].next_functions[0][0])  # ReLU"
   ]
  },
  {
   "cell_type": "markdown",
   "id": "posted-salad",
   "metadata": {},
   "source": [
    "### Backdrop"
   ]
  },
  {
   "cell_type": "markdown",
   "id": "scenic-halloween",
   "metadata": {},
   "source": [
    "Do backpropagowania błędu używamy jedynie ```loss.backward()```, lecz musimy wyczyścić obecne gradienty, by się nie akumulowały."
   ]
  },
  {
   "cell_type": "code",
   "execution_count": 10,
   "id": "contrary-celebration",
   "metadata": {},
   "outputs": [
    {
     "name": "stdout",
     "output_type": "stream",
     "text": [
      "conv1.bias.grad before backward\n",
      "tensor([0., 0., 0., 0., 0., 0.])\n",
      "conv1.bias.grad after bakcward\n",
      "tensor([ 0.0026,  0.0102, -0.0057,  0.0024,  0.0099,  0.0027])\n"
     ]
    }
   ],
   "source": [
    "#zerujemy gradient\n",
    "net.zero_grad()\n",
    "\n",
    "print('conv1.bias.grad before backward')\n",
    "print(net.conv1.bias.grad)\n",
    "\n",
    "#backward\n",
    "loss.backward()\n",
    "\n",
    "print('conv1.bias.grad after bakcward')\n",
    "print(net.conv1.bias.grad)"
   ]
  },
  {
   "cell_type": "markdown",
   "id": "virtual-puzzle",
   "metadata": {},
   "source": [
    "### Aktualizowanie weights"
   ]
  },
  {
   "cell_type": "markdown",
   "id": "higher-jesus",
   "metadata": {},
   "source": [
    "Najprostsza zasada to Stochastic Gradient Descent (SGD):\n",
    "\n",
    "```weight = weight - learning_rate * gradient```\n",
    "\n",
    "Implementacja:"
   ]
  },
  {
   "cell_type": "code",
   "execution_count": 11,
   "id": "surrounded-burke",
   "metadata": {},
   "outputs": [],
   "source": [
    "learning_rate = 0.01\n",
    "for f in net.parameters():\n",
    "    f.data.sub_(f.grad.data * learning_rate)"
   ]
  },
  {
   "cell_type": "markdown",
   "id": "respiratory-blake",
   "metadata": {},
   "source": [
    "Wraz z użytkowaniem sieci neuronowych będziemy chcieli używać innych zasad aktualizowania (SGD, Nesterov-SGD, Adam, RMSProp, etc.). Do tego służy pakiet ```torch.optim```, który implementuje te metody.\n",
    "\n",
    "W praktyce:"
   ]
  },
  {
   "cell_type": "code",
   "execution_count": 12,
   "id": "fifty-timothy",
   "metadata": {},
   "outputs": [],
   "source": [
    "import torch.optim as optim\n",
    "\n",
    "# tworzymy optimizer\n",
    "optimizer = optim.SGD(net.parameters(), lr=0.01)\n",
    "\n",
    "# in your training loop:\n",
    "optimizer.zero_grad()   # zerujemy buffery gradientu\n",
    "output = net(input)\n",
    "loss = criterion(output, target)\n",
    "loss.backward()\n",
    "optimizer.step()    # Wykonuje aktualizowanie"
   ]
  },
  {
   "cell_type": "markdown",
   "id": "about-albany",
   "metadata": {},
   "source": [
    "## Trenowanie klasyfikatora"
   ]
  },
  {
   "cell_type": "markdown",
   "id": "medium-questionnaire",
   "metadata": {},
   "source": [
    "Bawiąc się z tekstem, obrazami, audio lub video można używać standardowych paczek pythona i łądować je do tablicy NumPy, a ją konwertować w ```torch.*Tensor```.\n",
    "\n",
    "- Dla obrazków: Pillow, OpenCV\n",
    "- Dla audio: scipy, librosa\n",
    "- Dla tekstu: raw Python lub Cython based loading, albo NLTK, SpaCy\n",
    "\n",
    "Dla wizji istnieje ```torchvision```. Zawiera popularne zestawy danych: Imagenet, CIFAR10, MNIST, etc. oraz transormatory danych dla obrazów, viz., ```torchvision.datasets``` and ```torch.utils.data.DataLoader```.\n",
    "\n",
    "\n",
    "Teraz użyjemy zestawu CIFAR10. Posiada klasy: ‘airplane’, ‘automobile’, ‘bird’, ‘cat’, ‘deer’, ‘dog’, ‘frog’, ‘horse’, ‘ship’, ‘truck’. Obrazki w CIFAR-10 są typu 3x32x32, czyli 3-kanałowy kolor, 32x32 piksele."
   ]
  },
  {
   "cell_type": "markdown",
   "id": "british-stroke",
   "metadata": {},
   "source": [
    "### Trenowanie klasyfikatora obrazków"
   ]
  },
  {
   "cell_type": "markdown",
   "id": "olympic-loading",
   "metadata": {},
   "source": [
    "Wykonamy:\n",
    "- Załadowanie i normalizację CIFAR10 poprzez ```torchvision```\n",
    "- Definicję konwolucyjnej sieci neuronowej\n",
    "- Definincje funkcji błędu\n",
    "- Trenowanie sieci danymi z zestawu\n",
    "- Testowanie sieci zestawem testowym"
   ]
  },
  {
   "cell_type": "markdown",
   "id": "great-african",
   "metadata": {},
   "source": [
    "#### Ładowanie i normalizacja CIFAR10"
   ]
  },
  {
   "cell_type": "code",
   "execution_count": 13,
   "id": "exterior-cartoon",
   "metadata": {},
   "outputs": [
    {
     "name": "stdout",
     "output_type": "stream",
     "text": [
      "Downloading https://www.cs.toronto.edu/~kriz/cifar-10-python.tar.gz to ./data/cifar-10-python.tar.gz\n"
     ]
    },
    {
     "name": "stderr",
     "output_type": "stream",
     "text": [
      "100.0%"
     ]
    },
    {
     "name": "stdout",
     "output_type": "stream",
     "text": [
      "Extracting ./data/cifar-10-python.tar.gz to ./data\n",
      "Files already downloaded and verified\n"
     ]
    }
   ],
   "source": [
    "import torch\n",
    "import torchvision\n",
    "import torchvision.transforms as transforms\n",
    "\n",
    "transform = transforms.Compose(\n",
    "    [transforms.ToTensor(),\n",
    "     transforms.Normalize((0.5, 0.5, 0.5), (0.5, 0.5, 0.5))])\n",
    "\n",
    "trainset = torchvision.datasets.CIFAR10(root='./data', train=True,\n",
    "                                        download=True, transform=transform)\n",
    "trainloader = torch.utils.data.DataLoader(trainset, batch_size=4,\n",
    "                                          shuffle=True, num_workers=2)\n",
    "\n",
    "testset = torchvision.datasets.CIFAR10(root='./data', train=False,\n",
    "                                       download=True, transform=transform)\n",
    "testloader = torch.utils.data.DataLoader(testset, batch_size=4,\n",
    "                                         shuffle=False, num_workers=2)\n",
    "\n",
    "classes = ('plane', 'car', 'bird', 'cat',\n",
    "           'deer', 'dog', 'frog', 'horse', 'ship', 'truck')"
   ]
  },
  {
   "cell_type": "markdown",
   "id": "chief-lambda",
   "metadata": {},
   "source": [
    "Tak wyglądają btw:"
   ]
  },
  {
   "cell_type": "code",
   "execution_count": 17,
   "id": "republican-cemetery",
   "metadata": {},
   "outputs": [
    {
     "data": {
      "image/png": "[encoded data removed]",
      "text/plain": [
       "<Figure size 432x288 with 1 Axes>"
      ]
     },
     "metadata": {
      "needs_background": "light"
     },
     "output_type": "display_data"
    },
    {
     "name": "stdout",
     "output_type": "stream",
     "text": [
      "  cat   dog horse  frog\n"
     ]
    }
   ],
   "source": [
    "import matplotlib.pyplot as plt\n",
    "import numpy as np\n",
    "\n",
    "# functions to show an image\n",
    "\n",
    "\n",
    "def imshow(img):\n",
    "    img = img / 2 + 0.5     # unnormalize\n",
    "    npimg = img.numpy()\n",
    "    plt.imshow(np.transpose(npimg, (1, 2, 0)))\n",
    "    plt.show()\n",
    "\n",
    "\n",
    "# get some random training images\n",
    "dataiter = iter(trainloader)\n",
    "images, labels = dataiter.next()\n",
    "\n",
    "# show images\n",
    "imshow(torchvision.utils.make_grid(images))\n",
    "# print labels\n",
    "print(' '.join('%5s' % classes[labels[j]] for j in range(4)))"
   ]
  },
  {
   "cell_type": "markdown",
   "id": "mysterious-peeing",
   "metadata": {},
   "source": [
    "#### Definiujemy Konwolucyjną Sieć"
   ]
  },
  {
   "cell_type": "code",
   "execution_count": 18,
   "id": "automotive-specialist",
   "metadata": {},
   "outputs": [],
   "source": [
    "import torch.nn.functional as F\n",
    "\n",
    "\n",
    "class Net(nn.Module):\n",
    "    def __init__(self):\n",
    "        super(Net, self).__init__()\n",
    "        self.conv1 = nn.Conv2d(3, 6, 5)\n",
    "        self.pool = nn.MaxPool2d(2, 2)\n",
    "        self.conv2 = nn.Conv2d(6, 16, 5)\n",
    "        self.fc1 = nn.Linear(16 * 5 * 5, 120)\n",
    "        self.fc2 = nn.Linear(120, 84)\n",
    "        self.fc3 = nn.Linear(84, 10)\n",
    "\n",
    "    def forward(self, x):\n",
    "        x = self.pool(F.relu(self.conv1(x)))\n",
    "        x = self.pool(F.relu(self.conv2(x)))\n",
    "        x = x.view(-1, 16 * 5 * 5)\n",
    "        x = F.relu(self.fc1(x))\n",
    "        x = F.relu(self.fc2(x))\n",
    "        x = self.fc3(x)\n",
    "        return x\n",
    "\n",
    "\n",
    "net = Net()"
   ]
  },
  {
   "cell_type": "markdown",
   "id": "mysterious-status",
   "metadata": {},
   "source": [
    "#### Definiujemy funkcję błędu i optimizer"
   ]
  },
  {
   "cell_type": "code",
   "execution_count": 19,
   "id": "dried-quantum",
   "metadata": {},
   "outputs": [],
   "source": [
    "import torch.optim as optim\n",
    "\n",
    "criterion = nn.CrossEntropyLoss()\n",
    "optimizer = optim.SGD(net.parameters(), lr=0.001, momentum=0.9)"
   ]
  },
  {
   "cell_type": "markdown",
   "id": "otherwise-hygiene",
   "metadata": {},
   "source": [
    "#### Trenujemy naszą sieć"
   ]
  },
  {
   "cell_type": "code",
   "execution_count": 20,
   "id": "israeli-banks",
   "metadata": {},
   "outputs": [
    {
     "name": "stdout",
     "output_type": "stream",
     "text": [
      "[1,  2000] loss: 2.208\n",
      "[1,  4000] loss: 1.886\n",
      "[1,  6000] loss: 1.720\n",
      "[1,  8000] loss: 1.617\n",
      "[1, 10000] loss: 1.529\n",
      "[1, 12000] loss: 1.500\n",
      "[2,  2000] loss: 1.437\n",
      "[2,  4000] loss: 1.387\n",
      "[2,  6000] loss: 1.355\n",
      "[2,  8000] loss: 1.350\n",
      "[2, 10000] loss: 1.338\n",
      "[2, 12000] loss: 1.291\n",
      "Trening zakończony\n"
     ]
    }
   ],
   "source": [
    "for epoch in range(2):  # loopowanie bo zestawie danych 2 razy\n",
    "\n",
    "    running_loss = 0.0\n",
    "    for i, data in enumerate(trainloader, 0):\n",
    "        # zbiera inpputy; data to lista [inputs, labels]\n",
    "        inputs, labels = data\n",
    "\n",
    "        # zerujemy gradienty parametrów\n",
    "        optimizer.zero_grad()\n",
    "\n",
    "        # forward + backward + optimize\n",
    "        outputs = net(inputs)\n",
    "        loss = criterion(outputs, labels)\n",
    "        loss.backward()\n",
    "        optimizer.step()\n",
    "\n",
    "        # printujemy statystyki\n",
    "        running_loss += loss.item()\n",
    "        if i % 2000 == 1999:    # printuje co 2000 mini-batches\n",
    "            print('[%d, %5d] loss: %.3f' %\n",
    "                  (epoch + 1, i + 1, running_loss / 2000))\n",
    "            running_loss = 0.0\n",
    "\n",
    "print('Trening zakończony')"
   ]
  },
  {
   "cell_type": "markdown",
   "id": "fourth-assurance",
   "metadata": {},
   "source": [
    "##### Zapisujemy szybko nasz model na wszelki wypadek"
   ]
  },
  {
   "cell_type": "code",
   "execution_count": 21,
   "id": "anonymous-finish",
   "metadata": {},
   "outputs": [],
   "source": [
    "PATH = './cifar_net.pth'\n",
    "torch.save(net.state_dict(), PATH)"
   ]
  },
  {
   "cell_type": "markdown",
   "id": "subject-brown",
   "metadata": {},
   "source": [
    "#### Testujemy model na danych testowych"
   ]
  },
  {
   "cell_type": "markdown",
   "id": "false-identification",
   "metadata": {},
   "source": [
    "Przepuściliśmy sieć dwa razy po danych treningowych i wypada sprawdzić, czy czegokolwiek się nauczyła.\n",
    "\n",
    "Robimy to poprzez przewidywanie labela klasy który wypluwa sieć i sprawdzaniu go względem danych. Jeśli się zgadza, to dodajemy próbkę do poprawnych predykcji."
   ]
  },
  {
   "cell_type": "code",
   "execution_count": 23,
   "id": "mature-senator",
   "metadata": {},
   "outputs": [
    {
     "data": {
      "image/png": "[encoded data removed]",
      "text/plain": [
       "<Figure size 432x288 with 1 Axes>"
      ]
     },
     "metadata": {
      "needs_background": "light"
     },
     "output_type": "display_data"
    },
    {
     "name": "stdout",
     "output_type": "stream",
     "text": [
      "Prawdziwa klasa:    cat  ship  ship plane\n",
      "Przewidziane:    cat   car   car  ship\n"
     ]
    }
   ],
   "source": [
    "dataiter = iter(testloader)\n",
    "images, labels = dataiter.next()\n",
    "\n",
    "# printuje nam dane obrazka dla naszej wiedzy\n",
    "imshow(torchvision.utils.make_grid(images))\n",
    "print('Prawdziwa klasa: ', ' '.join('%5s' % classes[labels[j]] for j in range(4)))\n",
    "\n",
    "#wczytujemy zapisany model\n",
    "net = Net()\n",
    "net.load_state_dict(torch.load(PATH))\n",
    "\n",
    "#sprawdzamy co sieć myśli o obrazkach testowych\n",
    "outputs = net(images)\n",
    "\n",
    "#output to energie dla 10 klas\n",
    "#im bardziej sieć jest pewna że to dana klasa, tym wyższa energia\n",
    "#zbieramy indeks najwyższej energii\n",
    "_, predicted = torch.max(outputs, 1)\n",
    "\n",
    "print('Przewidziane: ', ' '.join('%5s' % classes[predicted[j]]\n",
    "                              for j in range(4)))"
   ]
  },
  {
   "cell_type": "markdown",
   "id": "operating-placement",
   "metadata": {},
   "source": [
    "Wyniki całkiem całkiem. teraz zaobaczmy co dla całego datasetu:"
   ]
  },
  {
   "cell_type": "code",
   "execution_count": 24,
   "id": "universal-briefs",
   "metadata": {},
   "outputs": [
    {
     "name": "stdout",
     "output_type": "stream",
     "text": [
      "Dokładność sieci dla 10000 testowych obrazków: 53 %\n"
     ]
    }
   ],
   "source": [
    "correct = 0\n",
    "total = 0\n",
    "with torch.no_grad():\n",
    "    for data in testloader:\n",
    "        images, labels = data\n",
    "        outputs = net(images)\n",
    "        _, predicted = torch.max(outputs.data, 1)\n",
    "        total += labels.size(0)\n",
    "        correct += (predicted == labels).sum().item()\n",
    "\n",
    "print('Dokładność sieci dla 10000 testowych obrazków: %d %%' % (\n",
    "    100 * correct / total))"
   ]
  },
  {
   "cell_type": "markdown",
   "id": "administrative-pilot",
   "metadata": {},
   "source": [
    "O wiele lepiej niż strzelanie (wynik byłby na poziomie 10%).\n",
    "\n",
    "Tak wygląda celność rozłożona dla klas:"
   ]
  },
  {
   "cell_type": "code",
   "execution_count": 25,
   "id": "adult-transfer",
   "metadata": {},
   "outputs": [
    {
     "name": "stdout",
     "output_type": "stream",
     "text": [
      "Accuracy of plane : 51 %\n",
      "Accuracy of   car : 54 %\n",
      "Accuracy of  bird : 48 %\n",
      "Accuracy of   cat : 45 %\n",
      "Accuracy of  deer : 41 %\n",
      "Accuracy of   dog : 24 %\n",
      "Accuracy of  frog : 53 %\n",
      "Accuracy of horse : 60 %\n",
      "Accuracy of  ship : 83 %\n",
      "Accuracy of truck : 66 %\n"
     ]
    }
   ],
   "source": [
    "class_correct = list(0. for i in range(10))\n",
    "class_total = list(0. for i in range(10))\n",
    "with torch.no_grad():\n",
    "    for data in testloader:\n",
    "        images, labels = data\n",
    "        outputs = net(images)\n",
    "        _, predicted = torch.max(outputs, 1)\n",
    "        c = (predicted == labels).squeeze()\n",
    "        for i in range(4):\n",
    "            label = labels[i]\n",
    "            class_correct[label] += c[i].item()\n",
    "            class_total[label] += 1\n",
    "\n",
    "\n",
    "for i in range(10):\n",
    "    print('Accuracy of %5s : %2d %%' % (\n",
    "        classes[i], 100 * class_correct[i] / class_total[i]))"
   ]
  },
  {
   "cell_type": "markdown",
   "id": "square-method",
   "metadata": {},
   "source": [
    "Teraz możemy wrócić do modelowania sieci(zmienić szerokość sieci w ```nn.conv2d```) oraz trenowania i zwiększyć liczbę pętli po naszych danych i zobaczyć zmianę w wynikach."
   ]
  },
  {
   "cell_type": "code",
   "execution_count": 27,
   "id": "sporting-fairy",
   "metadata": {},
   "outputs": [
    {
     "name": "stdout",
     "output_type": "stream",
     "text": [
      "[1,  2000] loss: 2.152\n",
      "[1,  4000] loss: 1.787\n",
      "[1,  6000] loss: 1.634\n",
      "[1,  8000] loss: 1.547\n",
      "[1, 10000] loss: 1.483\n",
      "[1, 12000] loss: 1.434\n",
      "[2,  2000] loss: 1.361\n",
      "[2,  4000] loss: 1.337\n",
      "[2,  6000] loss: 1.321\n",
      "[2,  8000] loss: 1.279\n",
      "[2, 10000] loss: 1.241\n",
      "[2, 12000] loss: 1.260\n",
      "[3,  2000] loss: 1.177\n",
      "[3,  4000] loss: 1.144\n",
      "[3,  6000] loss: 1.127\n",
      "[3,  8000] loss: 1.123\n",
      "[3, 10000] loss: 1.129\n",
      "[3, 12000] loss: 1.114\n",
      "[4,  2000] loss: 1.034\n",
      "[4,  4000] loss: 1.035\n",
      "[4,  6000] loss: 1.055\n",
      "[4,  8000] loss: 1.032\n",
      "[4, 10000] loss: 1.002\n",
      "[4, 12000] loss: 1.030\n",
      "[5,  2000] loss: 0.942\n",
      "[5,  4000] loss: 0.941\n",
      "[5,  6000] loss: 0.944\n",
      "[5,  8000] loss: 0.982\n",
      "[5, 10000] loss: 0.956\n",
      "[5, 12000] loss: 1.002\n",
      "Trening zakończony\n"
     ]
    },
    {
     "data": {
      "image/png": "[encoded data removed]",
      "text/plain": [
       "<Figure size 432x288 with 1 Axes>"
      ]
     },
     "metadata": {
      "needs_background": "light"
     },
     "output_type": "display_data"
    },
    {
     "name": "stdout",
     "output_type": "stream",
     "text": [
      "Prawdziwa klasa:    cat  ship  ship plane\n",
      "Przewidziane:    cat  ship  ship plane\n",
      "Dokładność sieci dla 10000 testowych obrazków: 63 %\n",
      "Accuracy of plane : 63 %\n",
      "Accuracy of   car : 80 %\n",
      "Accuracy of  bird : 49 %\n",
      "Accuracy of   cat : 51 %\n",
      "Accuracy of  deer : 45 %\n",
      "Accuracy of   dog : 41 %\n",
      "Accuracy of  frog : 81 %\n",
      "Accuracy of horse : 76 %\n",
      "Accuracy of  ship : 83 %\n",
      "Accuracy of truck : 67 %\n"
     ]
    }
   ],
   "source": [
    "import torch.nn.functional as F\n",
    "\n",
    "#sieć\n",
    "class Net(nn.Module):\n",
    "    def __init__(self):\n",
    "        super(Net, self).__init__()\n",
    "        self.conv1 = nn.Conv2d(3, 12, 5) #drugi argument podwojony\n",
    "        self.pool = nn.MaxPool2d(2, 2)\n",
    "        self.conv2 = nn.Conv2d(12, 16, 5) #pierwszy argument musi być taki jak drugi argument pierwszego nn.conv2d\n",
    "        self.fc1 = nn.Linear(16 * 5 * 5, 120)\n",
    "        self.fc2 = nn.Linear(120, 84)\n",
    "        self.fc3 = nn.Linear(84, 10)\n",
    "\n",
    "    def forward(self, x):\n",
    "        x = self.pool(F.relu(self.conv1(x)))\n",
    "        x = self.pool(F.relu(self.conv2(x)))\n",
    "        x = x.view(-1, 16 * 5 * 5)\n",
    "        x = F.relu(self.fc1(x))\n",
    "        x = F.relu(self.fc2(x))\n",
    "        x = self.fc3(x)\n",
    "        return x\n",
    "\n",
    "\n",
    "net = Net()\n",
    "\n",
    "#optimizer\n",
    "import torch.optim as optim\n",
    "\n",
    "criterion = nn.CrossEntropyLoss()\n",
    "optimizer = optim.SGD(net.parameters(), lr=0.001, momentum=0.9)\n",
    "\n",
    "#trenujemy\n",
    "for epoch in range(5):  # loopowanie bo zestawie danych 5 razy\n",
    "\n",
    "    running_loss = 0.0\n",
    "    for i, data in enumerate(trainloader, 0):\n",
    "        # zbiera inpputy; data to lista [inputs, labels]\n",
    "        inputs, labels = data\n",
    "\n",
    "        # zerujemy gradienty parametrów\n",
    "        optimizer.zero_grad()\n",
    "\n",
    "        # forward + backward + optimize\n",
    "        outputs = net(inputs)\n",
    "        loss = criterion(outputs, labels)\n",
    "        loss.backward()\n",
    "        optimizer.step()\n",
    "\n",
    "        # printujemy statystyki\n",
    "        running_loss += loss.item()\n",
    "        if i % 2000 == 1999:    # printuje co 2000 mini-batches\n",
    "            print('[%d, %5d] loss: %.3f' %\n",
    "                  (epoch + 1, i + 1, running_loss / 2000))\n",
    "            running_loss = 0.0\n",
    "\n",
    "print('Trening zakończony')\n",
    "\n",
    "#zapis modelu\n",
    "PATH = './cifar_net.pth'\n",
    "torch.save(net.state_dict(), PATH)\n",
    "\n",
    "#testowe 4 obrazki\n",
    "dataiter = iter(testloader)\n",
    "images, labels = dataiter.next()\n",
    "\n",
    "# printuje nam dane obrazka dla naszej wiedzy\n",
    "imshow(torchvision.utils.make_grid(images))\n",
    "print('Prawdziwa klasa: ', ' '.join('%5s' % classes[labels[j]] for j in range(4)))\n",
    "\n",
    "#wczytujemy zapisany model\n",
    "net = Net()\n",
    "net.load_state_dict(torch.load(PATH))\n",
    "\n",
    "#sprawdzamy co sieć myśli o obrazkach testowych\n",
    "outputs = net(images)\n",
    "\n",
    "#output to energie dla 10 klas\n",
    "#im bardziej sieć jest pewna że to dana klasa, tym wyższa energia\n",
    "#zbieramy indeks najwyższej energii\n",
    "_, predicted = torch.max(outputs, 1)\n",
    "\n",
    "print('Przewidziane: ', ' '.join('%5s' % classes[predicted[j]]\n",
    "                              for j in range(4)))\n",
    "\n",
    "#dla całego datasetu\n",
    "correct = 0\n",
    "total = 0\n",
    "with torch.no_grad():\n",
    "    for data in testloader:\n",
    "        images, labels = data\n",
    "        outputs = net(images)\n",
    "        _, predicted = torch.max(outputs.data, 1)\n",
    "        total += labels.size(0)\n",
    "        correct += (predicted == labels).sum().item()\n",
    "\n",
    "print('Dokładność sieci dla 10000 testowych obrazków: %d %%' % (\n",
    "    100 * correct / total))\n",
    "\n",
    "#rozkład dla klas\n",
    "class_correct = list(0. for i in range(10))\n",
    "class_total = list(0. for i in range(10))\n",
    "with torch.no_grad():\n",
    "    for data in testloader:\n",
    "        images, labels = data\n",
    "        outputs = net(images)\n",
    "        _, predicted = torch.max(outputs, 1)\n",
    "        c = (predicted == labels).squeeze()\n",
    "        for i in range(4):\n",
    "            label = labels[i]\n",
    "            class_correct[label] += c[i].item()\n",
    "            class_total[label] += 1\n",
    "\n",
    "\n",
    "for i in range(10):\n",
    "    print('Accuracy of %5s : %2d %%' % (\n",
    "        classes[i], 100 * class_correct[i] / class_total[i]))"
   ]
  },
  {
   "cell_type": "markdown",
   "id": "imposed-fighter",
   "metadata": {},
   "source": [
    "Jak na moje to jackpot. Pamiętajcie że samo zwiększanie pętli po tym samym secie danych dużo nie da. Najlepiej poszerzać sieć i zwiększać dataset treningowy"
   ]
  },
  {
   "cell_type": "markdown",
   "id": "operational-isaac",
   "metadata": {},
   "source": [
    "## Tu dla tych co mają Nvidie\n",
    "\n",
    "### Trenowanie na GPU"
   ]
  },
  {
   "cell_type": "code",
   "execution_count": null,
   "id": "joined-drink",
   "metadata": {},
   "outputs": [],
   "source": [
    "device = torch.device(\"cuda:0\" if torch.cuda.is_available() else \"cpu\")\n",
    "\n",
    "# Jeśli jesteśmy na maszynie z GPU z Cuda to tu go wyprintuje\n",
    "print(device)"
   ]
  },
  {
   "cell_type": "code",
   "execution_count": null,
   "id": "electronic-shade",
   "metadata": {},
   "outputs": [],
   "source": [
    "#przerzucamy sieć na GPU\n",
    "net.to(device)\n",
    "\n",
    "#inputy też trzeba przez GPU przerzucać na każdym kroku\n",
    "inputs, labels = data[0].to(device), data[1].to(device)"
   ]
  },
  {
   "cell_type": "markdown",
   "id": "departmental-riding",
   "metadata": {},
   "source": [
    "## To na tyle z tego tutoriala. Wiemy jak zrobić sieć klasyfikującą obrazki. Z tego kodu da się rozgrzebać to co CJ wymyśli chyba. Chyba..."
   ]
  }
 ],
 "metadata": {
  "kernelspec": {
   "display_name": "Python 3",
   "language": "python",
   "name": "python3"
  },
  "language_info": {
   "codemirror_mode": {
    "name": "ipython",
    "version": 3
   },
   "file_extension": ".py",
   "mimetype": "text/x-python",
   "name": "python",
   "nbconvert_exporter": "python",
   "pygments_lexer": "ipython3",
   "version": "3.9.1"
  }
 },
 "nbformat": 4,
 "nbformat_minor": 5
}
